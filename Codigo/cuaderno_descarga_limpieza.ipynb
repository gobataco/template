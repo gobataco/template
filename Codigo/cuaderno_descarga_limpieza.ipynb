{
 "cells": [
  {
   "cell_type": "code",
   "execution_count": 1,
   "metadata": {
    "application/vnd.databricks.v1+cell": {
     "cellMetadata": {
      "byteLimit": 2048000,
      "rowLimit": 10000
     },
     "inputWidgets": {},
     "nuid": "e4ec3e70-5181-466f-b141-330be58ae504",
     "showTitle": false,
     "title": ""
    }
   },
   "outputs": [
    {
     "name": "stderr",
     "output_type": "stream",
     "text": [
      "[nltk_data] Downloading package stopwords to\n",
      "[nltk_data]     C:\\Users\\cizai\\AppData\\Roaming\\nltk_data...\n",
      "[nltk_data]   Package stopwords is already up-to-date!\n",
      "[nltk_data] Downloading package punkt to\n",
      "[nltk_data]     C:\\Users\\cizai\\AppData\\Roaming\\nltk_data...\n",
      "[nltk_data]   Package punkt is already up-to-date!\n"
     ]
    },
    {
     "data": {
      "text/plain": [
       "True"
      ]
     },
     "execution_count": 1,
     "metadata": {},
     "output_type": "execute_result"
    }
   ],
   "source": [
    "import nltk\n",
    "nltk.download('stopwords')\n",
    "nltk.download('punkt')"
   ]
  },
  {
   "cell_type": "markdown",
   "metadata": {
    "application/vnd.databricks.v1+cell": {
     "cellMetadata": {
      "byteLimit": 2048000,
      "rowLimit": 10000
     },
     "inputWidgets": {},
     "nuid": "05b459d4-e270-47cc-9b3b-6bc34fe166e5",
     "showTitle": false,
     "title": ""
    }
   },
   "source": [
    "# Pipeline para la descarga y limpieza de datos del portal de Datos Abiertos\n",
    "\n",
    "![img](../img/pipeline.png)"
   ]
  },
  {
   "cell_type": "code",
   "execution_count": 2,
   "metadata": {
    "application/vnd.databricks.v1+cell": {
     "cellMetadata": {
      "byteLimit": 2048000,
      "rowLimit": 10000
     },
     "inputWidgets": {},
     "nuid": "5f8920fa-23ae-4cf8-a022-f34f0ee99003",
     "showTitle": false,
     "title": ""
    }
   },
   "outputs": [],
   "source": [
    "## Definimos directorio raiz de donde salen las utilidades \"../\"\n",
    "import sys\n",
    "sys.path.append('../app')\n",
    "import os\n",
    "import polars as pd\n",
    "from sodapy import Socrata\n",
    "from utils.download_open_data import ContractDataProcessor\n",
    "from utils.data_cleaner import DataCleaner"
   ]
  },
  {
   "cell_type": "markdown",
   "metadata": {
    "application/vnd.databricks.v1+cell": {
     "cellMetadata": {
      "byteLimit": 2048000,
      "rowLimit": 10000
     },
     "inputWidgets": {},
     "nuid": "3229aa16-630e-4a49-87b7-f67e9188fe39",
     "showTitle": false,
     "title": ""
    }
   },
   "source": [
    "## Descarga y actualización de datos bronze"
   ]
  },
  {
   "cell_type": "code",
   "execution_count": 3,
   "metadata": {
    "application/vnd.databricks.v1+cell": {
     "cellMetadata": {
      "byteLimit": 2048000,
      "rowLimit": 10000
     },
     "inputWidgets": {},
     "nuid": "476bb649-f09d-4973-97f1-501817ed6fae",
     "showTitle": false,
     "title": ""
    }
   },
   "outputs": [
    {
     "name": "stderr",
     "output_type": "stream",
     "text": [
      "WARNING:root:Requests made without an app_token will be subject to strict throttling limits.\n"
     ]
    }
   ],
   "source": [
    "client = Socrata(\"www.datos.gov.co\", None)\n",
    "processor = ContractDataProcessor(base_path=\"custom/path/to/data/\")"
   ]
  },
  {
   "cell_type": "markdown",
   "metadata": {
    "application/vnd.databricks.v1+cell": {
     "cellMetadata": {
      "byteLimit": 2048000,
      "rowLimit": 10000
     },
     "inputWidgets": {},
     "nuid": "042a69ad-ad1b-40f3-abc7-c1980378922b",
     "showTitle": false,
     "title": ""
    }
   },
   "source": [
    "## Limpieza, estandarización y actualización de datos silver"
   ]
  },
  {
   "cell_type": "code",
   "execution_count": 4,
   "metadata": {},
   "outputs": [
    {
     "data": {
      "text/html": [
       "<div>\n",
       "<style scoped>\n",
       "    .dataframe tbody tr th:only-of-type {\n",
       "        vertical-align: middle;\n",
       "    }\n",
       "\n",
       "    .dataframe tbody tr th {\n",
       "        vertical-align: top;\n",
       "    }\n",
       "\n",
       "    .dataframe thead th {\n",
       "        text-align: right;\n",
       "    }\n",
       "</style>\n",
       "<table border=\"1\" class=\"dataframe\">\n",
       "  <thead>\n",
       "    <tr style=\"text-align: right;\">\n",
       "      <th></th>\n",
       "      <th>nombre_entidad</th>\n",
       "      <th>nit_entidad</th>\n",
       "      <th>departamento</th>\n",
       "      <th>ciudad</th>\n",
       "      <th>orden</th>\n",
       "      <th>sector</th>\n",
       "      <th>rama</th>\n",
       "      <th>entidad_centralizada</th>\n",
       "      <th>proceso_de_compra</th>\n",
       "      <th>id_contrato</th>\n",
       "      <th>...</th>\n",
       "      <th>presupuesto_general_de_la_nacion_pgn</th>\n",
       "      <th>sistema_general_de_participaciones</th>\n",
       "      <th>sistema_general_de_regal_as</th>\n",
       "      <th>recursos_propios_alcald_as_gobernaciones_y_resguardos_ind_genas_</th>\n",
       "      <th>recursos_de_credito</th>\n",
       "      <th>recursos_propios</th>\n",
       "      <th>ultima_actualizacion</th>\n",
       "      <th>codigo_entidad</th>\n",
       "      <th>codigo_proveedor</th>\n",
       "      <th>objeto_del_contrato</th>\n",
       "    </tr>\n",
       "  </thead>\n",
       "  <tbody>\n",
       "    <tr>\n",
       "      <th>0</th>\n",
       "      <td>ESTADO SURORIENTE ESE</td>\n",
       "      <td>9001455729</td>\n",
       "      <td>Cauca</td>\n",
       "      <td>Popayán</td>\n",
       "      <td>Territorial</td>\n",
       "      <td>Salud y Protección Social</td>\n",
       "      <td>Corporación Autónoma</td>\n",
       "      <td>Centralizada</td>\n",
       "      <td>CO1.BDOS.5361409</td>\n",
       "      <td>CO1.PCCNTR.5707469</td>\n",
       "      <td>...</td>\n",
       "      <td>0</td>\n",
       "      <td>0</td>\n",
       "      <td>0</td>\n",
       "      <td>0</td>\n",
       "      <td>0</td>\n",
       "      <td>14912640</td>\n",
       "      <td>2024-03-30T00:00:00.000</td>\n",
       "      <td>718384050</td>\n",
       "      <td>705083525</td>\n",
       "      <td>PRESTACIÓN DE SERVICIOS PROFESIONALES DE APOYO...</td>\n",
       "    </tr>\n",
       "    <tr>\n",
       "      <th>1</th>\n",
       "      <td>HOSPITAL SAN JUAN DE DIOS DE HONDA ESE</td>\n",
       "      <td>890700666</td>\n",
       "      <td>Tolima</td>\n",
       "      <td>Honda</td>\n",
       "      <td>Territorial</td>\n",
       "      <td>Salud y Protección Social</td>\n",
       "      <td>Corporación Autónoma</td>\n",
       "      <td>Centralizada</td>\n",
       "      <td>CO1.BDOS.5355863</td>\n",
       "      <td>CO1.PCCNTR.5705317</td>\n",
       "      <td>...</td>\n",
       "      <td>0</td>\n",
       "      <td>46398000</td>\n",
       "      <td>0</td>\n",
       "      <td>0</td>\n",
       "      <td>0</td>\n",
       "      <td>0</td>\n",
       "      <td>&lt;NA&gt;</td>\n",
       "      <td>703294033</td>\n",
       "      <td>716217096</td>\n",
       "      <td>EJECUTAR LOS PROCESOS Y SUBPROCESOS DE PSICOLO...</td>\n",
       "    </tr>\n",
       "    <tr>\n",
       "      <th>2</th>\n",
       "      <td>EMPRESA SOCIAL DEL ESTADO HOSPITAL LOCAL DE SA...</td>\n",
       "      <td>892000458</td>\n",
       "      <td>Meta</td>\n",
       "      <td>San Martín</td>\n",
       "      <td>Nacional</td>\n",
       "      <td>Salud y Protección Social</td>\n",
       "      <td>Ejecutivo</td>\n",
       "      <td>Centralizada</td>\n",
       "      <td>CO1.BDOS.5360776</td>\n",
       "      <td>CO1.PCCNTR.5708015</td>\n",
       "      <td>...</td>\n",
       "      <td>0</td>\n",
       "      <td>0</td>\n",
       "      <td>0</td>\n",
       "      <td>0</td>\n",
       "      <td>0</td>\n",
       "      <td>3059636</td>\n",
       "      <td>2024-02-25T00:00:00.000</td>\n",
       "      <td>705985851</td>\n",
       "      <td>719332090</td>\n",
       "      <td>PRESTACIÓN DE SERVICIOS PROFESIONALES COMO BAC...</td>\n",
       "    </tr>\n",
       "    <tr>\n",
       "      <th>3</th>\n",
       "      <td>HOSPITAL DEPARTAMENTAL UNIVERSITARIO SANTA SOF...</td>\n",
       "      <td>890801099</td>\n",
       "      <td>Caldas</td>\n",
       "      <td>Manizales</td>\n",
       "      <td>Territorial</td>\n",
       "      <td>Salud y Protección Social</td>\n",
       "      <td>Ejecutivo</td>\n",
       "      <td>Centralizada</td>\n",
       "      <td>CO1.BDOS.5326534</td>\n",
       "      <td>CO1.PCCNTR.5688535</td>\n",
       "      <td>...</td>\n",
       "      <td>0</td>\n",
       "      <td>0</td>\n",
       "      <td>0</td>\n",
       "      <td>45000000</td>\n",
       "      <td>0</td>\n",
       "      <td>0</td>\n",
       "      <td>&lt;NA&gt;</td>\n",
       "      <td>704527647</td>\n",
       "      <td>720182872</td>\n",
       "      <td>PRESTACION DE SERVICIOS PROFESIONALES COMO FIS...</td>\n",
       "    </tr>\n",
       "    <tr>\n",
       "      <th>4</th>\n",
       "      <td>empresa social del estado región de salud soacha.</td>\n",
       "      <td>8000068503</td>\n",
       "      <td>Cundinamarca</td>\n",
       "      <td>Soacha</td>\n",
       "      <td>Territorial</td>\n",
       "      <td>Salud y Protección Social</td>\n",
       "      <td>Corporación Autónoma</td>\n",
       "      <td>Centralizada</td>\n",
       "      <td>CO1.BDOS.5357885</td>\n",
       "      <td>CO1.PCCNTR.5705929</td>\n",
       "      <td>...</td>\n",
       "      <td>9336000</td>\n",
       "      <td>0</td>\n",
       "      <td>0</td>\n",
       "      <td>0</td>\n",
       "      <td>0</td>\n",
       "      <td>0</td>\n",
       "      <td>&lt;NA&gt;</td>\n",
       "      <td>702727421</td>\n",
       "      <td>720042449</td>\n",
       "      <td>PRESTACIÓN DE SERVICIOS COMO PROFESIONAL EN SA...</td>\n",
       "    </tr>\n",
       "  </tbody>\n",
       "</table>\n",
       "<p>5 rows × 67 columns</p>\n",
       "</div>"
      ],
      "text/plain": [
       "                                      nombre_entidad nit_entidad  \\\n",
       "0                              ESTADO SURORIENTE ESE  9001455729   \n",
       "1             HOSPITAL SAN JUAN DE DIOS DE HONDA ESE   890700666   \n",
       "2  EMPRESA SOCIAL DEL ESTADO HOSPITAL LOCAL DE SA...   892000458   \n",
       "3  HOSPITAL DEPARTAMENTAL UNIVERSITARIO SANTA SOF...   890801099   \n",
       "4  empresa social del estado región de salud soacha.  8000068503   \n",
       "\n",
       "   departamento      ciudad        orden                     sector  \\\n",
       "0         Cauca     Popayán  Territorial  Salud y Protección Social   \n",
       "1        Tolima       Honda  Territorial  Salud y Protección Social   \n",
       "2          Meta  San Martín     Nacional  Salud y Protección Social   \n",
       "3        Caldas   Manizales  Territorial  Salud y Protección Social   \n",
       "4  Cundinamarca      Soacha  Territorial  Salud y Protección Social   \n",
       "\n",
       "                   rama entidad_centralizada proceso_de_compra  \\\n",
       "0  Corporación Autónoma         Centralizada  CO1.BDOS.5361409   \n",
       "1  Corporación Autónoma         Centralizada  CO1.BDOS.5355863   \n",
       "2             Ejecutivo         Centralizada  CO1.BDOS.5360776   \n",
       "3             Ejecutivo         Centralizada  CO1.BDOS.5326534   \n",
       "4  Corporación Autónoma         Centralizada  CO1.BDOS.5357885   \n",
       "\n",
       "          id_contrato  ... presupuesto_general_de_la_nacion_pgn  \\\n",
       "0  CO1.PCCNTR.5707469  ...                                    0   \n",
       "1  CO1.PCCNTR.5705317  ...                                    0   \n",
       "2  CO1.PCCNTR.5708015  ...                                    0   \n",
       "3  CO1.PCCNTR.5688535  ...                                    0   \n",
       "4  CO1.PCCNTR.5705929  ...                              9336000   \n",
       "\n",
       "  sistema_general_de_participaciones sistema_general_de_regal_as  \\\n",
       "0                                  0                           0   \n",
       "1                           46398000                           0   \n",
       "2                                  0                           0   \n",
       "3                                  0                           0   \n",
       "4                                  0                           0   \n",
       "\n",
       "  recursos_propios_alcald_as_gobernaciones_y_resguardos_ind_genas_  \\\n",
       "0                                                  0                 \n",
       "1                                                  0                 \n",
       "2                                                  0                 \n",
       "3                                           45000000                 \n",
       "4                                                  0                 \n",
       "\n",
       "  recursos_de_credito recursos_propios     ultima_actualizacion  \\\n",
       "0                   0         14912640  2024-03-30T00:00:00.000   \n",
       "1                   0                0                     <NA>   \n",
       "2                   0          3059636  2024-02-25T00:00:00.000   \n",
       "3                   0                0                     <NA>   \n",
       "4                   0                0                     <NA>   \n",
       "\n",
       "  codigo_entidad codigo_proveedor  \\\n",
       "0      718384050        705083525   \n",
       "1      703294033        716217096   \n",
       "2      705985851        719332090   \n",
       "3      704527647        720182872   \n",
       "4      702727421        720042449   \n",
       "\n",
       "                                 objeto_del_contrato  \n",
       "0  PRESTACIÓN DE SERVICIOS PROFESIONALES DE APOYO...  \n",
       "1  EJECUTAR LOS PROCESOS Y SUBPROCESOS DE PSICOLO...  \n",
       "2  PRESTACIÓN DE SERVICIOS PROFESIONALES COMO BAC...  \n",
       "3  PRESTACION DE SERVICIOS PROFESIONALES COMO FIS...  \n",
       "4  PRESTACIÓN DE SERVICIOS COMO PROFESIONAL EN SA...  \n",
       "\n",
       "[5 rows x 67 columns]"
      ]
     },
     "execution_count": 4,
     "metadata": {},
     "output_type": "execute_result"
    }
   ],
   "source": [
    "year = 2024\n",
    "warnings = {}\n",
    "\n",
    "os.makedirs(f'../Datos/bronze/{year}', exist_ok=True)\n",
    "\n",
    "# Descargar y procesar los datos de 2024\n",
    "last_view_2024 = processor.load_last_view_by_year(client, year=2024)\n",
    "\n",
    "# Guardar los datos en formato parquet\n",
    "last_view_2024.to_parquet(f'../Datos/bronze/{year}/S2.parquet')\n",
    "\n",
    "# Mostrar los primeros registros para verificar la descarga\n",
    "last_view_2024.head()"
   ]
  },
  {
   "cell_type": "code",
   "execution_count": 5,
   "metadata": {},
   "outputs": [
    {
     "name": "stderr",
     "output_type": "stream",
     "text": [
      "[nltk_data] Downloading package stopwords to\n",
      "[nltk_data]     C:\\Users\\cizai\\AppData\\Roaming\\nltk_data...\n",
      "[nltk_data]   Package stopwords is already up-to-date!\n",
      "[nltk_data] Downloading package punkt to\n",
      "[nltk_data]     C:\\Users\\cizai\\AppData\\Roaming\\nltk_data...\n",
      "[nltk_data]   Package punkt is already up-to-date!\n",
      "[nltk_data] Downloading package punkt_tab to\n",
      "[nltk_data]     C:\\Users\\cizai\\AppData\\Roaming\\nltk_data...\n",
      "[nltk_data]   Unzipping tokenizers\\punkt_tab.zip.\n"
     ]
    },
    {
     "name": "stdout",
     "output_type": "stream",
     "text": [
      "                                      nombre_entidad nit_entidad  \\\n",
      "0                              ESTADO SURORIENTE ESE  9001455729   \n",
      "1             HOSPITAL SAN JUAN DE DIOS DE HONDA ESE   890700666   \n",
      "2  EMPRESA SOCIAL DEL ESTADO HOSPITAL LOCAL DE SA...   892000458   \n",
      "3  HOSPITAL DEPARTAMENTAL UNIVERSITARIO SANTA SOF...   890801099   \n",
      "4  empresa social del estado región de salud soacha.  8000068503   \n",
      "\n",
      "   departamento      ciudad        orden                     sector  \\\n",
      "0         Cauca     Popayán  Territorial  Salud y Protección Social   \n",
      "1        Tolima       Honda  Territorial  Salud y Protección Social   \n",
      "2          Meta  San Martín     Nacional  Salud y Protección Social   \n",
      "3        Caldas   Manizales  Territorial  Salud y Protección Social   \n",
      "4  Cundinamarca      Soacha  Territorial  Salud y Protección Social   \n",
      "\n",
      "                   rama entidad_centralizada proceso_de_compra  \\\n",
      "0  Corporación Autónoma         Centralizada  CO1.BDOS.5361409   \n",
      "1  Corporación Autónoma         Centralizada  CO1.BDOS.5355863   \n",
      "2             Ejecutivo         Centralizada  CO1.BDOS.5360776   \n",
      "3             Ejecutivo         Centralizada  CO1.BDOS.5326534   \n",
      "4  Corporación Autónoma         Centralizada  CO1.BDOS.5357885   \n",
      "\n",
      "          id_contrato  ... presupuesto_general_de_la_nacion_pgn  \\\n",
      "0  CO1.PCCNTR.5707469  ...                                    0   \n",
      "1  CO1.PCCNTR.5705317  ...                                    0   \n",
      "2  CO1.PCCNTR.5708015  ...                                    0   \n",
      "3  CO1.PCCNTR.5688535  ...                                    0   \n",
      "4  CO1.PCCNTR.5705929  ...                              9336000   \n",
      "\n",
      "   sistema_general_de_participaciones sistema_general_de_regal_as  \\\n",
      "0                                   0                           0   \n",
      "1                            46398000                           0   \n",
      "2                                   0                           0   \n",
      "3                                   0                           0   \n",
      "4                                   0                           0   \n",
      "\n",
      "  recursos_propios_alcald_as_gobernaciones_y_resguardos_ind_genas_  \\\n",
      "0                                                  0                 \n",
      "1                                                  0                 \n",
      "2                                                  0                 \n",
      "3                                           45000000                 \n",
      "4                                                  0                 \n",
      "\n",
      "  recursos_de_credito recursos_propios     ultima_actualizacion  \\\n",
      "0                   0         14912640  2024-03-30T00:00:00.000   \n",
      "1                   0                0                     <NA>   \n",
      "2                   0          3059636  2024-02-25T00:00:00.000   \n",
      "3                   0                0                     <NA>   \n",
      "4                   0                0                     <NA>   \n",
      "\n",
      "  codigo_entidad codigo_proveedor  \\\n",
      "0      718384050        705083525   \n",
      "1      703294033        716217096   \n",
      "2      705985851        719332090   \n",
      "3      704527647        720182872   \n",
      "4      702727421        720042449   \n",
      "\n",
      "                                 objeto_del_contrato  \n",
      "0  prestación servicios profesionales apoyo ejecu...  \n",
      "1  ejecutar procesos subprocesos psicología reque...  \n",
      "2  prestación servicios profesionales bacteriólog...  \n",
      "3  prestacion servicios profesionales fisioterapeuta  \n",
      "4  prestación servicios profesional salud área as...  \n",
      "\n",
      "[5 rows x 67 columns]\n"
     ]
    }
   ],
   "source": [
    "# Instanciar la clase DataCleaner\n",
    "cleaner = DataCleaner()\n",
    "\n",
    "# Ruta de entrada del archivo Parquet que se desea limpiar\n",
    "input_path = '../Datos/bronze/2024/S2.parquet'  # Ajusta esta ruta según la ubicación de tu archivo\n",
    "\n",
    "# Cargar los datos usando DataCleaner (cambiando file_type a 'parquet')\n",
    "# Intentar con el encoding 'ISO-8859-1' o 'latin1'\n",
    "df = cleaner.load_data(file_path=input_path, file_type='parquet')\n",
    "\n",
    "# Definir las columnas a procesar (ajusta estas listas a tu dataset)\n",
    "columns_to_cast = ['nombre_entidad', 'nit_entidad', 'departamento', 'ciudad']  # Ajusta según tu DataFrame\n",
    "categorical_columns = ['estado_contrato', 'habilita_pago_adelantado']  # Ajusta según tu DataFrame\n",
    "text_columns = ['descripcion_del_proceso', 'justificacion_modalidad_de', 'objeto_del_contrato']  # Ajusta según tu DataFrame\n",
    "numeric_columns = ['saldo_cdp', 'saldo_vigencia']  # Ajusta según tu DataFrame\n",
    "date_columns = ['fecha_de_firma', 'fecha_de_inicio_del_contrato']  # Ajusta según tu DataFrame\n",
    "url_columns = ['urlproceso']  # Ajusta según tu DataFrame\n",
    "\n",
    "# Paso 1: Castear columnas a string\n",
    "df = cleaner.cast_columns(df, columns_to_cast=columns_to_cast)\n",
    "\n",
    "# Paso 2: Codificar columnas categóricas\n",
    "df = cleaner.encode_categorical_columns(df, categorical_columns=categorical_columns)\n",
    "\n",
    "# Paso 3: Limpiar texto en columnas de tipo texto\n",
    "df = cleaner.clean_text_columns(df, text_columns=text_columns)\n",
    "\n",
    "# Paso 4: Limpiar valores numéricos en columnas numéricas\n",
    "df = cleaner.clean_numeric_columns(df, numeric_columns=numeric_columns)\n",
    "\n",
    "# Paso 5: Limpiar y estandarizar columnas de fechas\n",
    "df = cleaner.clean_date_columns(df, date_columns=date_columns)\n",
    "\n",
    "# Paso 6: Limpiar URLs en columnas específicas\n",
    "df = cleaner.clean_url_columns(df, url_columns=url_columns)\n",
    "\n",
    "# Paso 7: Limpiar caracteres especiales en columnas de descripción\n",
    "df = cleaner.clean_descriptions_columns(df, cols=text_columns)\n",
    "\n",
    "# Paso 8: Guardar el DataFrame limpio en formato Parquet\n",
    "output_path = '../Datos/bronze/2024/S2_cleaned.parquet'  # Ajusta esta ruta según tu entorno\n",
    "cleaner.save_data(df, output_path=output_path, file_type='parquet')\n",
    "\n",
    "# Mostrar los primeros registros para verificar la limpieza\n",
    "df.head()"
   ]
  },
  {
   "cell_type": "code",
   "execution_count": null,
   "metadata": {},
   "outputs": [],
   "source": []
  }
 ],
 "metadata": {
  "application/vnd.databricks.v1+notebook": {
   "dashboards": [],
   "environmentMetadata": null,
   "language": "python",
   "notebookMetadata": {
    "pythonIndentUnit": 4
   },
   "notebookName": "get_open_data",
   "widgets": {}
  },
  "kernelspec": {
   "display_name": "alineacioncodigos",
   "language": "python",
   "name": "python3"
  },
  "language_info": {
   "codemirror_mode": {
    "name": "ipython",
    "version": 3
   },
   "file_extension": ".py",
   "mimetype": "text/x-python",
   "name": "python",
   "nbconvert_exporter": "python",
   "pygments_lexer": "ipython3",
   "version": "3.11.10"
  }
 },
 "nbformat": 4,
 "nbformat_minor": 0
}
